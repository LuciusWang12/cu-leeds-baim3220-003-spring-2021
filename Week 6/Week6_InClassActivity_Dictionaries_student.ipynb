{
 "cells": [
  {
   "cell_type": "markdown",
   "metadata": {},
   "source": [
    "# Week 6 \n",
    "## In-Class Activity Workbook\n",
    "\n",
    "## Learning Objectives \n",
    "### In this notebook you will learn and practice:\n",
    "<br>Section 1: <a id='Section 1'></a>[Section 1: Dictionary Fundamentals](#Section-1)\n",
    "<br>Section 2: <a id='Section 2'></a>[Section 2: Working with Dictionaries](#Section-2)\n",
    "<br>Section 3: <a id='Section 3'></a>[Section 3: Basic Analytics with Dictionaries](#Section-3)\n",
    "<br>Section 4: <a id='Section 4'></a>[Section 4: Building and Sorting Dictionaries](#Section-4)"
   ]
  },
  {
   "cell_type": "markdown",
   "metadata": {},
   "source": [
    "# Section 1\n",
    "## Dictionary Fundamentals"
   ]
  },
  {
   "cell_type": "markdown",
   "metadata": {},
   "source": [
    "### Problem 1.1 \n",
    "1. Declare a dictionary, `empty` as an empty dictionary\n",
    "2. Declare a dictionary, `person` with a key of `\"name\"` and a value of `\"John Smith\"`\n",
    "3. Declare a dictionary, `customer` with keys of `\"name\"` and `\"age\"` and values of `\"Morty\"` and `26` respectively\n",
    "4. Print out all of these dictionaries"
   ]
  },
  {
   "cell_type": "code",
   "execution_count": null,
   "metadata": {},
   "outputs": [],
   "source": []
  },
  {
   "cell_type": "markdown",
   "metadata": {},
   "source": [
    "### Problem 1.2\n",
    "1. In the `person` dictionary, show the value for the `\"name\"` key \n",
    "2. In the `customer` dictionary, show the value for the `\"age\"` key"
   ]
  },
  {
   "cell_type": "code",
   "execution_count": null,
   "metadata": {},
   "outputs": [],
   "source": []
  },
  {
   "cell_type": "markdown",
   "metadata": {},
   "source": [
    "### Problem 1.3\n",
    "1. Use the `get()` method and repeat problem `1.2`"
   ]
  },
  {
   "cell_type": "code",
   "execution_count": null,
   "metadata": {},
   "outputs": [],
   "source": []
  },
  {
   "cell_type": "markdown",
   "metadata": {},
   "source": [
    "### Problem 1.4\n",
    "1. Try to grab an `'age'` key from the `person` dictionary (don't go back and add it just run this as is)\n",
    ">- In the first cell, try and grab `age` using bracket syntax\n",
    ">- In the second cell, try and grab `age` using the `get()` method\n",
    ">- Note the differences in what is returned using both of these approaches\n",
    "\n",
    "2. Add an option to the `get()` method approach that prints \"age is not a key in this dictionary\""
   ]
  },
  {
   "cell_type": "code",
   "execution_count": null,
   "metadata": {},
   "outputs": [],
   "source": []
  },
  {
   "cell_type": "code",
   "execution_count": null,
   "metadata": {},
   "outputs": [],
   "source": []
  },
  {
   "cell_type": "markdown",
   "metadata": {},
   "source": [
    "### Problem 1.5\n",
    "#### A list embedded within a dictionary\n",
    "1. Create a dictionary, `sports` with the following data:\n",
    ">- `key = \"sports\", value = [\"baseball\",\"football\",\"hockey\",\"soccer\"]`\n",
    "2. Grab the first item in the list\n",
    "3. Grab a slice that has the second to last and the last items in the list"
   ]
  },
  {
   "cell_type": "code",
   "execution_count": null,
   "metadata": {},
   "outputs": [],
   "source": []
  },
  {
   "cell_type": "markdown",
   "metadata": {},
   "source": [
    "### Problem 1.6\n",
    "#### A dictionary embedded within a list\n",
    "1. Create a list, `names` with the following values:\n",
    ">- `\"John\", \"Dennis\", {\"name\":\"Kirsten\"}`\n",
    "2. Grab the string \"Kirsten\" "
   ]
  },
  {
   "cell_type": "code",
   "execution_count": null,
   "metadata": {},
   "outputs": [],
   "source": []
  },
  {
   "cell_type": "markdown",
   "metadata": {},
   "source": [
    "### Problem 1.7\n",
    "#### Dictionaries embedded within dictionaries\n",
    "1. Create a dictionary, `redsx`, with the following data:\n",
    ">- `key \"team\", value \"Boston Red Sox\"`\n",
    ">- `key \"wins\", value {\"2018\": 108, \"2017\" : 93}`\n",
    "\n",
    "2. Print out the dictionary for wins\n",
    "3. Print out the wins in 2018 only"
   ]
  },
  {
   "cell_type": "code",
   "execution_count": null,
   "metadata": {},
   "outputs": [],
   "source": []
  },
  {
   "cell_type": "markdown",
   "metadata": {},
   "source": [
    "# Section 2\n",
    "## Working with Dictionaries"
   ]
  },
  {
   "cell_type": "markdown",
   "metadata": {},
   "source": [
    "### Problem 2.1\n",
    "1. Create a dictionary, `car` with the following data:\n",
    ">- key \"year\", value 2018"
   ]
  },
  {
   "cell_type": "code",
   "execution_count": null,
   "metadata": {},
   "outputs": [],
   "source": []
  },
  {
   "cell_type": "markdown",
   "metadata": {},
   "source": [
    "2. Add a new key value pair to `car` of \"color\" = \"Blue\"\n",
    ">- Print `car` before and after the change"
   ]
  },
  {
   "cell_type": "code",
   "execution_count": null,
   "metadata": {},
   "outputs": [],
   "source": []
  },
  {
   "cell_type": "markdown",
   "metadata": {},
   "source": [
    "### Problem 2.2\n",
    "1. Update the \"color\" key to have a value of \"Red\"\n",
    ">- Print `car` before and after the change"
   ]
  },
  {
   "cell_type": "code",
   "execution_count": null,
   "metadata": {},
   "outputs": [],
   "source": []
  },
  {
   "cell_type": "markdown",
   "metadata": {},
   "source": [
    "### Problem 2.3\n",
    "1. Delete the key/value pair of \"year\":2018 from `car`\n",
    ">- Print `car` before and after the change"
   ]
  },
  {
   "cell_type": "code",
   "execution_count": null,
   "metadata": {},
   "outputs": [],
   "source": []
  },
  {
   "cell_type": "markdown",
   "metadata": {},
   "source": [
    "### Problem 2.4\n",
    "1. Create a new dictionary, `person`, that has the following data:\n",
    ">- key \"name\", value \"John\"\n",
    ">- key \"age\", value 26"
   ]
  },
  {
   "cell_type": "code",
   "execution_count": null,
   "metadata": {},
   "outputs": [],
   "source": []
  },
  {
   "cell_type": "markdown",
   "metadata": {},
   "source": [
    "2. Loop through the keys in `person` and print them out"
   ]
  },
  {
   "cell_type": "code",
   "execution_count": null,
   "metadata": {},
   "outputs": [],
   "source": []
  },
  {
   "cell_type": "markdown",
   "metadata": {},
   "source": [
    "3. Loop through the values in `person` and print them out"
   ]
  },
  {
   "cell_type": "code",
   "execution_count": null,
   "metadata": {},
   "outputs": [],
   "source": []
  },
  {
   "cell_type": "markdown",
   "metadata": {},
   "source": [
    "4. Loop through `person` and print out the key:value pairs\n",
    ">- Use f-string formatting to nicely print out the pairs"
   ]
  },
  {
   "cell_type": "code",
   "execution_count": null,
   "metadata": {},
   "outputs": [],
   "source": []
  },
  {
   "cell_type": "markdown",
   "metadata": {},
   "source": [
    "### Problem 2.5\n",
    "#### Nesting dictionaries"
   ]
  },
  {
   "cell_type": "markdown",
   "metadata": {},
   "source": [
    "1. Create three customer dictionaries for three different customers with the following key:value pairs:\n",
    ">- cust1 = \"name\":\"Emil\", \"age\": 23, \"totalspend\" = 1200\n",
    ">- cust2 = \"name\":\"Tobias\", \"age\": 45, \"totalspend\" = 2500\n",
    ">- cust3 = \"name\": \"Linus\", \"age\": 33, \"totalspend\" = 850"
   ]
  },
  {
   "cell_type": "code",
   "execution_count": null,
   "metadata": {},
   "outputs": [],
   "source": []
  },
  {
   "cell_type": "markdown",
   "metadata": {},
   "source": [
    "2. Create a `customers` dictionary with the three `cust_` dictionaries nested within `customers`\n",
    ">- Note: your keys can be the same name as your individual dictionaries"
   ]
  },
  {
   "cell_type": "code",
   "execution_count": null,
   "metadata": {
    "scrolled": true
   },
   "outputs": [],
   "source": []
  },
  {
   "cell_type": "markdown",
   "metadata": {},
   "source": [
    "3. Grab the `totalspend` value from `cust2` from the `customers` dictionary"
   ]
  },
  {
   "cell_type": "code",
   "execution_count": null,
   "metadata": {},
   "outputs": [],
   "source": []
  },
  {
   "cell_type": "markdown",
   "metadata": {},
   "source": [
    "4. Loop through `customers` and print out all the ages"
   ]
  },
  {
   "cell_type": "code",
   "execution_count": null,
   "metadata": {},
   "outputs": [],
   "source": [
    "    "
   ]
  },
  {
   "cell_type": "markdown",
   "metadata": {},
   "source": [
    "<a id='Top Page'></a>[Back to Top](#Week-5)"
   ]
  },
  {
   "cell_type": "markdown",
   "metadata": {},
   "source": [
    "# Section 3\n",
    "## Basic Analytics with Dictionaries\n",
    ">- Use the `customers` dictionaries defined in problem 2.5 to answer the following questions"
   ]
  },
  {
   "cell_type": "markdown",
   "metadata": {},
   "source": [
    "### Problem 3.1\n",
    "1. What is the average age of our customers?\n",
    ">- Round to two decimal places"
   ]
  },
  {
   "cell_type": "code",
   "execution_count": null,
   "metadata": {},
   "outputs": [],
   "source": []
  },
  {
   "cell_type": "markdown",
   "metadata": {},
   "source": [
    "### Problem 3.2\n",
    "1. What is the average total spending for our customers?\n",
    ">- Round to two decimal places\n",
    ">- Use f-string formatting to print a one-sentence summary statement with the total number of customers, total spend, and average spend."
   ]
  },
  {
   "cell_type": "code",
   "execution_count": null,
   "metadata": {},
   "outputs": [],
   "source": []
  },
  {
   "cell_type": "markdown",
   "metadata": {},
   "source": [
    "#### Try using markdown cells to show a summary of the customer spending\n",
    ">- Note: refer to the `Dictionaries_Type-Along_student.ipynb` file to learn how to set up notebooks for printing variable values within a markdown cell"
   ]
  },
  {
   "cell_type": "markdown",
   "metadata": {},
   "source": [
    "### Using markdown to print results\n",
    "- Try printing your results from the prior problem here using markdown"
   ]
  },
  {
   "cell_type": "markdown",
   "metadata": {},
   "source": [
    "# Section 4\n",
    "##  Building and Sorting Dictionaries"
   ]
  },
  {
   "cell_type": "markdown",
   "metadata": {},
   "source": [
    "### Problem 4.1 \n",
    "1. Create a dictionary, `sales`, with 10 keys numbered from 1-10\n",
    ">- Set the default value for each key value to 0 (zero)\n",
    ">- Then set the value for each key to be a random number based on:\n",
    ">>- For odd number keys a random number from from 1-1000\n",
    ">>- For even number keys a random number from 5000-15000\n",
    ">- This random value will represent the sales values in dollars"
   ]
  },
  {
   "cell_type": "code",
   "execution_count": null,
   "metadata": {},
   "outputs": [],
   "source": []
  },
  {
   "cell_type": "markdown",
   "metadata": {},
   "source": [
    "### Problem 4.2 \n",
    "1. Show the random sales values sorted in descending order  "
   ]
  },
  {
   "cell_type": "code",
   "execution_count": null,
   "metadata": {},
   "outputs": [],
   "source": []
  },
  {
   "cell_type": "markdown",
   "metadata": {},
   "source": [
    "### Problem 4.3\n",
    "1. Show the maximum sales value using the `max()` function"
   ]
  },
  {
   "cell_type": "code",
   "execution_count": null,
   "metadata": {},
   "outputs": [],
   "source": []
  },
  {
   "cell_type": "markdown",
   "metadata": {},
   "source": [
    "2. Show the minimum sales values using the `min()` function"
   ]
  },
  {
   "cell_type": "code",
   "execution_count": null,
   "metadata": {},
   "outputs": [],
   "source": []
  },
  {
   "cell_type": "markdown",
   "metadata": {},
   "source": [
    "3. Show the total sales values using the `sum()` function"
   ]
  },
  {
   "cell_type": "code",
   "execution_count": null,
   "metadata": {},
   "outputs": [],
   "source": []
  },
  {
   "cell_type": "markdown",
   "metadata": {},
   "source": [
    "4. Show the range of sales values"
   ]
  },
  {
   "cell_type": "code",
   "execution_count": null,
   "metadata": {},
   "outputs": [],
   "source": []
  },
  {
   "cell_type": "markdown",
   "metadata": {},
   "source": [
    "5. Show the average across all sales values\n",
    ">- Round to two decimal places"
   ]
  },
  {
   "cell_type": "code",
   "execution_count": null,
   "metadata": {},
   "outputs": [],
   "source": []
  },
  {
   "cell_type": "markdown",
   "metadata": {},
   "source": [
    "<a id='Top Page'></a>[Back to Top](#Week-6)"
   ]
  }
 ],
 "metadata": {
  "kernelspec": {
   "display_name": "Python 3",
   "language": "python",
   "name": "python3"
  },
  "language_info": {
   "codemirror_mode": {
    "name": "ipython",
    "version": 3
   },
   "file_extension": ".py",
   "mimetype": "text/x-python",
   "name": "python",
   "nbconvert_exporter": "python",
   "pygments_lexer": "ipython3",
   "version": "3.8.5"
  }
 },
 "nbformat": 4,
 "nbformat_minor": 2
}
