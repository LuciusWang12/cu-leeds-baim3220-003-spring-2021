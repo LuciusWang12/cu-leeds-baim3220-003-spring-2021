{
 "cells": [
  {
   "cell_type": "markdown",
   "metadata": {},
   "source": [
    "# Week 8\n",
    "## In-class Activity/Homework\n",
    "### Learning Objectives\n",
    "1. Practice working with dictionaries\n",
    "2. Practice working with strings and string methods"
   ]
  },
  {
   "cell_type": "markdown",
   "metadata": {},
   "source": [
    "# Problem 1\n",
    ">- Write a function, `palindrome` that will check to see if a word is a palindrome\n",
    ">- Print out the word passed to `palindrome` in normal and reverse order to show the results\n",
    ">- Print out a statements telling the user if their word is a palindrome or not "
   ]
  },
  {
   "cell_type": "markdown",
   "metadata": {},
   "source": [
    "### Write your function in the next cell but do not call it yet"
   ]
  },
  {
   "cell_type": "code",
   "execution_count": null,
   "metadata": {},
   "outputs": [],
   "source": []
  },
  {
   "cell_type": "markdown",
   "metadata": {},
   "source": [
    "### Call your function in the next cell and pass the following values to it\n",
    ">- tattarrattat, madam, racecar, dog, boy"
   ]
  },
  {
   "cell_type": "code",
   "execution_count": null,
   "metadata": {},
   "outputs": [],
   "source": []
  },
  {
   "cell_type": "markdown",
   "metadata": {},
   "source": [
    "# Problem 2\n",
    ">- Improve the table function we worked on in the `ManipulatingStrings` type-along to be able to have any values for majors or salaries and the printed table will adjust column widths accordingly to print a nice table.\n",
    ">- One way to do this is to remove the `leftWidth` and `rigthWidth` parameters in the function parameters and then create a way to count the characters for the keys and values in any dictionary passed to your function.\n",
    ">- After you find a way to count the characters then you need to find the maximum length of all the keys and values so that you can pass that value into the string formatting methods (rjust(), ljust(), etc) "
   ]
  },
  {
   "cell_type": "code",
   "execution_count": null,
   "metadata": {},
   "outputs": [],
   "source": []
  },
  {
   "cell_type": "markdown",
   "metadata": {},
   "source": [
    "### Test your function with a couple of different dictionaries listed below\n",
    ">- Make sure your printed table adjusts based on the different keys and values"
   ]
  },
  {
   "cell_type": "code",
   "execution_count": null,
   "metadata": {},
   "outputs": [],
   "source": [
    "listTest1 = {'Marketing':50000,'Accounting':55000, 'Analytics':57000,'Management': 60000}\n",
    "listTest2 = {'Marketing':50000,'Accounting':55000, 'Analytics':57000,'Management': 60000, 'Anthropology': 45000}\n",
    "listTest3 = {'Marketing':50000,'Accounting':55000, 'Analytics':57000,'Management': 60000, \n",
    "             'Anthropology': 45000,\n",
    "             'A really long major name': 50000000}"
   ]
  },
  {
   "cell_type": "code",
   "execution_count": null,
   "metadata": {},
   "outputs": [],
   "source": []
  },
  {
   "cell_type": "code",
   "execution_count": null,
   "metadata": {},
   "outputs": [],
   "source": []
  },
  {
   "cell_type": "code",
   "execution_count": null,
   "metadata": {},
   "outputs": [],
   "source": []
  }
 ],
 "metadata": {
  "kernelspec": {
   "display_name": "Python 3",
   "language": "python",
   "name": "python3"
  },
  "language_info": {
   "codemirror_mode": {
    "name": "ipython",
    "version": 3
   },
   "file_extension": ".py",
   "mimetype": "text/x-python",
   "name": "python",
   "nbconvert_exporter": "python",
   "pygments_lexer": "ipython3",
   "version": "3.8.5"
  }
 },
 "nbformat": 4,
 "nbformat_minor": 2
}
