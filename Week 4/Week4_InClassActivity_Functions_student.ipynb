{
 "cells": [
  {
   "cell_type": "markdown",
   "metadata": {},
   "source": [
    "# Week 4 \n",
    "## In-Class Activity Workbook\n",
    "\n",
    "## Learning Objectives \n",
    "### In this notebook you will learn about and practice:\n",
    "1. Section 1: Creating and Calling Functions\n",
    "<a id='Section 1'></a>[Section 1: Creating and Calling Functions](#Section-1)\n",
    "2. Section 2: <a id='Section 2'></a>[Section 2: Parameters](#Section-2)\n",
    "3. Section 3: <a id='Section 3'></a>[Section 3: Return Statement](#Section-3)\n",
    "4. Section 4: <a id='Section 4'></a>[Section 4: Scope](#Section-4)\n",
    "\n",
    "<a id='Top Page'></a>[Back to Top](#Week-4)"
   ]
  },
  {
   "cell_type": "markdown",
   "metadata": {},
   "source": [
    "# Section 1\n",
    "## Creating and Calling Functions\n",
    "\n",
    "We have been using built-in functions (print(), input(), type(), str(), etc) throughout the course but now it is time for your to create your own \"*user-defined functions*\" (UDFs)"
   ]
  },
  {
   "cell_type": "markdown",
   "metadata": {},
   "source": [
    "### Problem 1.1 \n",
    "1. Define a function, `myName`, that accepts user input for a `name` variable and prints `name` whenever called\n",
    ">- Include f-string formatting to print out a statement: \"Hi, my name is {name}\""
   ]
  },
  {
   "cell_type": "markdown",
   "metadata": {},
   "source": [
    "#### Define your function in the next cell"
   ]
  },
  {
   "cell_type": "code",
   "execution_count": null,
   "metadata": {
    "scrolled": true
   },
   "outputs": [],
   "source": []
  },
  {
   "cell_type": "markdown",
   "metadata": {},
   "source": [
    "#### Call your function in the next cell "
   ]
  },
  {
   "cell_type": "code",
   "execution_count": null,
   "metadata": {
    "scrolled": true
   },
   "outputs": [],
   "source": []
  },
  {
   "cell_type": "markdown",
   "metadata": {},
   "source": [
    "### Problem 1.2\n",
    "1. Define a function, `pizzaTop` that accepts user input for 3 different pizza toppings\n",
    "2. The function should print out all your favorite pizza toppings when called.\n",
    ">- Include f-string formatting to print out a statement: \n",
    ">>- \"Your {top1}, {top2}, and {top3} pizza is coming right up!\""
   ]
  },
  {
   "cell_type": "markdown",
   "metadata": {},
   "source": [
    "#### Define your function in the next cell"
   ]
  },
  {
   "cell_type": "code",
   "execution_count": null,
   "metadata": {},
   "outputs": [],
   "source": []
  },
  {
   "cell_type": "markdown",
   "metadata": {},
   "source": [
    "#### Call your function in the next cell and order your pizza!"
   ]
  },
  {
   "cell_type": "code",
   "execution_count": null,
   "metadata": {
    "scrolled": true
   },
   "outputs": [],
   "source": []
  },
  {
   "cell_type": "markdown",
   "metadata": {},
   "source": [
    "### Problem 1.3\n",
    "1. Define a function, `calc` that accepts user input for 2 numbers and prints the sum of the numbers\n",
    "2. Convert the input to float data types \n",
    ">- Include f-string formatting to print out a statement: \n",
    ">>- \"{num1} + {num2} = sum\" "
   ]
  },
  {
   "cell_type": "markdown",
   "metadata": {},
   "source": [
    "#### Define `calc()` in the next cell"
   ]
  },
  {
   "cell_type": "code",
   "execution_count": null,
   "metadata": {},
   "outputs": [],
   "source": []
  },
  {
   "cell_type": "markdown",
   "metadata": {},
   "source": [
    "#### Call `calc()` in the next cell and add some numbers"
   ]
  },
  {
   "cell_type": "code",
   "execution_count": null,
   "metadata": {},
   "outputs": [],
   "source": []
  },
  {
   "cell_type": "markdown",
   "metadata": {},
   "source": [
    "# Section 2\n",
    "## Parameters\n",
    "\n",
    "Definition: parameters are temporary variables declared in the function definition\n",
    "<br> We state parameters within the parenthesis of the function definition\n"
   ]
  },
  {
   "cell_type": "markdown",
   "metadata": {},
   "source": [
    "### Problem 2.1\n",
    "1. Create a function, `printName` with a `name` parameter that gets printed when the function is called\n",
    "2. Use f-string formatting to print a statement: 'Hi, {name}!' when ever the function is called"
   ]
  },
  {
   "cell_type": "markdown",
   "metadata": {},
   "source": [
    "#### Define your function in the next cell"
   ]
  },
  {
   "cell_type": "code",
   "execution_count": null,
   "metadata": {},
   "outputs": [],
   "source": []
  },
  {
   "cell_type": "markdown",
   "metadata": {},
   "source": [
    "#### Call your function in the next cell and pass your name as a parameter"
   ]
  },
  {
   "cell_type": "code",
   "execution_count": null,
   "metadata": {},
   "outputs": [],
   "source": []
  },
  {
   "cell_type": "markdown",
   "metadata": {},
   "source": [
    "### Problem 2.2\n",
    "1. Create a function, `cube()` that cubes all the numbers stored in a list and prints the result"
   ]
  },
  {
   "cell_type": "markdown",
   "metadata": {},
   "source": [
    "#### Define your function in the next cell"
   ]
  },
  {
   "cell_type": "code",
   "execution_count": null,
   "metadata": {},
   "outputs": [],
   "source": []
  },
  {
   "cell_type": "markdown",
   "metadata": {},
   "source": [
    "#### Define a list variable in the next cell and pass it to your `cube()` function"
   ]
  },
  {
   "cell_type": "code",
   "execution_count": null,
   "metadata": {},
   "outputs": [],
   "source": []
  },
  {
   "cell_type": "markdown",
   "metadata": {},
   "source": [
    "### Problem 2.3\n",
    "#### using `*args` to pass a variable number of assignments into a function\n",
    ">- `*args` allows us to make functions more modular\n",
    "\n",
    "1. Create a function, `outputData` with a parameter, `name`, and then uses `*args` to accept any number of parameters\n",
    "2. Print a statement that says: \"Hi, {name}, your data is: {data}\" "
   ]
  },
  {
   "cell_type": "markdown",
   "metadata": {},
   "source": [
    "#### Define your function in the next cell"
   ]
  },
  {
   "cell_type": "code",
   "execution_count": null,
   "metadata": {},
   "outputs": [],
   "source": []
  },
  {
   "cell_type": "markdown",
   "metadata": {},
   "source": [
    "#### Call your function in the next cell\n",
    ">- Pass your name to the first argument and then pass a variety of parameters after that"
   ]
  },
  {
   "cell_type": "code",
   "execution_count": null,
   "metadata": {},
   "outputs": [],
   "source": []
  },
  {
   "cell_type": "markdown",
   "metadata": {},
   "source": [
    "### Problem 2.4\n",
    "1. Create a function, `checkupper()` that when passed a word checks if the word starts with an uppercase letter.\n",
    ">- If the word does start with upper case output “True”, otherwise “False”."
   ]
  },
  {
   "cell_type": "code",
   "execution_count": null,
   "metadata": {},
   "outputs": [],
   "source": []
  },
  {
   "cell_type": "markdown",
   "metadata": {},
   "source": [
    "#### Ask for user input to enter a word and pass that word to your function to test whether it started with an uppercase letter"
   ]
  },
  {
   "cell_type": "code",
   "execution_count": null,
   "metadata": {},
   "outputs": [],
   "source": []
  },
  {
   "cell_type": "markdown",
   "metadata": {},
   "source": [
    "### Problem 2.5\n",
    "\n",
    "1. Define a function, `noName` that takes in two arguments, `first_name` and `last_name`, and makes both optional.\n",
    "2. If no values are passed into the parameters, print out “No name passed in”; \n",
    "3. If only one or the other names are passed in print out various statements depending on what name was passed in:\n",
    ">- If first_name is passed in but no last_name print: \"FirstName: {name}, no last name passed in\"\n",
    ">- If last_name is passed in but no first_name print: \"LastName: {name}, no first name passed in\"\n",
    "\n",
    "<b> Note: To make a parameter optional use `name=\"\"` in the function definition"
   ]
  },
  {
   "cell_type": "code",
   "execution_count": null,
   "metadata": {},
   "outputs": [],
   "source": []
  },
  {
   "cell_type": "markdown",
   "metadata": {},
   "source": [
    "#### Call your function in the next cell"
   ]
  },
  {
   "cell_type": "code",
   "execution_count": null,
   "metadata": {},
   "outputs": [],
   "source": []
  },
  {
   "cell_type": "markdown",
   "metadata": {},
   "source": [
    "<a id='Top Page'></a>[Back to Top](#Week-4)"
   ]
  },
  {
   "cell_type": "markdown",
   "metadata": {},
   "source": [
    "# Section 3\n",
    "## Return Statement"
   ]
  },
  {
   "cell_type": "markdown",
   "metadata": {},
   "source": [
    "### Problem 3.1\n",
    "1. Create a function, `fullName` that takes in a first and last name and returns the two names joined together."
   ]
  },
  {
   "cell_type": "code",
   "execution_count": null,
   "metadata": {},
   "outputs": [],
   "source": []
  },
  {
   "cell_type": "code",
   "execution_count": null,
   "metadata": {},
   "outputs": [],
   "source": []
  },
  {
   "cell_type": "markdown",
   "metadata": {},
   "source": [
    "### Problem 3.2\n",
    "1. Write a function, `percent()` that takes a list as a parameter and returns a list of numbers that is the result of multiplying all the numbers in the list by 100\n"
   ]
  },
  {
   "cell_type": "markdown",
   "metadata": {},
   "source": [
    "#### Define your function in the next cell"
   ]
  },
  {
   "cell_type": "code",
   "execution_count": null,
   "metadata": {},
   "outputs": [],
   "source": []
  },
  {
   "cell_type": "markdown",
   "metadata": {},
   "source": [
    "#### Call your function in the next cell and pass the list `[.2,.8,.5,.25]` to it"
   ]
  },
  {
   "cell_type": "code",
   "execution_count": null,
   "metadata": {
    "scrolled": true
   },
   "outputs": [],
   "source": []
  },
  {
   "cell_type": "markdown",
   "metadata": {},
   "source": [
    "# Section 4\n",
    "##  Scope"
   ]
  },
  {
   "cell_type": "markdown",
   "metadata": {},
   "source": [
    "### Problem 4.1 \n",
    "1. Create a function, `changeValue()` that will change the list passed in with a parameter of a name at a given index position\n",
    ">- For example, if we pass in \"Bill\" and index position 1, the list will be updated with \"Bill\" at index position 1"
   ]
  },
  {
   "cell_type": "markdown",
   "metadata": {},
   "source": [
    "#### Define your function in the next cell"
   ]
  },
  {
   "cell_type": "code",
   "execution_count": null,
   "metadata": {},
   "outputs": [],
   "source": []
  },
  {
   "cell_type": "markdown",
   "metadata": {},
   "source": [
    "#### In the next cell:\n",
    "1. Create list of names, `names = ['Bob', 'Rich', 'Amanda']\n",
    "2. Print a statement that shows the list prior to any changes\n",
    "3. Call your function and replace 'Rich' with 'Bill'\n",
    "4. Print a statement that shows the list after the changes"
   ]
  },
  {
   "cell_type": "code",
   "execution_count": null,
   "metadata": {},
   "outputs": [],
   "source": []
  },
  {
   "cell_type": "markdown",
   "metadata": {},
   "source": [
    "### Problem 4.2\n",
    "1. Within a function, ask for user input and return that input\n",
    "2. Store the input from the function in a variable outside of the function.\n",
    "3. Print out the input."
   ]
  },
  {
   "cell_type": "code",
   "execution_count": null,
   "metadata": {},
   "outputs": [],
   "source": []
  },
  {
   "cell_type": "markdown",
   "metadata": {},
   "source": [
    "<a id='Top Page'></a>[Back to Top](#Week-4)"
   ]
  }
 ],
 "metadata": {
  "kernelspec": {
   "display_name": "Python 3",
   "language": "python",
   "name": "python3"
  },
  "language_info": {
   "codemirror_mode": {
    "name": "ipython",
    "version": 3
   },
   "file_extension": ".py",
   "mimetype": "text/x-python",
   "name": "python",
   "nbconvert_exporter": "python",
   "pygments_lexer": "ipython3",
   "version": "3.7.3"
  }
 },
 "nbformat": 4,
 "nbformat_minor": 2
}
