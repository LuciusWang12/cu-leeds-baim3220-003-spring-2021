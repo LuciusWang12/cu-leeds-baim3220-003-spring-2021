{
 "cells": [
  {
   "cell_type": "markdown",
   "id": "challenging-retailer",
   "metadata": {},
   "source": [
    "# In-class Exercise - Fors, Ifs, and Functions"
   ]
  },
  {
   "cell_type": "code",
   "execution_count": null,
   "id": "promotional-acting",
   "metadata": {},
   "outputs": [],
   "source": [
    "# Use cell-magics if (and only if please!) you've created a separate environment (e.g., venv-baim3220) in Anaconda.\n",
    "\n",
    "# Opinionated formatter\n",
    "# https://pypi.org/project/nb-black/\n",
    "#%load_ext nb_black"
   ]
  },
  {
   "cell_type": "markdown",
   "id": "velvet-eating",
   "metadata": {},
   "source": [
    "## Exercise 1"
   ]
  },
  {
   "cell_type": "code",
   "execution_count": null,
   "id": "chicken-championship",
   "metadata": {},
   "outputs": [],
   "source": [
    "# an example list\n",
    "fruits = [\"apples\", \"oranges\", \"pears\", \"kiwi\", \"grapes\", \"apricots\"]"
   ]
  },
  {
   "cell_type": "markdown",
   "id": "deadly-garbage",
   "metadata": {},
   "source": [
    "### Exercise 1.1\n",
    "\n",
    "Iterate (a fancy way of saying loop) over the list below. If the fruit name as \"ap\" in it, print the name in all capital letters. "
   ]
  },
  {
   "cell_type": "code",
   "execution_count": null,
   "id": "ideal-reconstruction",
   "metadata": {},
   "outputs": [],
   "source": [
    "# Create a loop; use for or while? Hint, the list has a finite and known number of elements\n",
    "\n",
    "# Inside the loop, print the name of the current item\n",
    "\n",
    "# Check if the item has \"ap\" in it?\n",
    "\n",
    "# If so, print it the item in uppercase.\n",
    "\n",
    "# If not? Optional, this because I didn't ask, but if I had? Options.\n",
    "\n",
    "# End the loop, which may be as simple as commenting it so"
   ]
  },
  {
   "cell_type": "markdown",
   "id": "acceptable-graham",
   "metadata": {},
   "source": [
    "### Exercise 1.2\n",
    "\n",
    "Define a function that takes a list of strings as a one parameter, and a string as another. \n",
    "\n",
    "If the 2nd parameter is in any of the words in the list, add those to a new list. At the end of the function return the new list.\n",
    "\n",
    "Our \"blueprint\": `new_list_of_things = new_function_name(list_of_things,search_string)`\n",
    "\n",
    "Look familiar? The insides of this are from 1.1 above. Because we are returning something from the function, we need not format or print output inside the function. Unless it helps you with debugging of course."
   ]
  },
  {
   "cell_type": "code",
   "execution_count": null,
   "id": "ethical-tuning",
   "metadata": {},
   "outputs": [],
   "source": [
    "# Define the function here:\n",
    "\n",
    "def new_function_name(list_of_things, search_string):\n",
    "    \"\"\"\n",
    "    Arguments:\n",
    "    - list of strings: a list of string to search\n",
    "    - search_string: the thing we're searching for\n",
    "    \n",
    "    Returns a list of found items that have the search string within\n",
    "    \"\"\"\n",
    "    \n",
    "    # what's next?\n",
    "    \n",
    "    \n",
    "# end def new_function_name"
   ]
  },
  {
   "cell_type": "markdown",
   "id": "major-poker",
   "metadata": {},
   "source": [
    "Invoke/call/execute/run the function with the example list."
   ]
  },
  {
   "cell_type": "code",
   "execution_count": null,
   "id": "alike-count",
   "metadata": {},
   "outputs": [],
   "source": [
    "list_of_things = fruits  # might as well reuse this list\n",
    "search_string = \"ap\"\n",
    "new_list_of_things = new_function_name(list_of_things, search_string)\n",
    "print(new_list_of_things)"
   ]
  },
  {
   "cell_type": "markdown",
   "id": "martial-projector",
   "metadata": {},
   "source": [
    "## Exercise 2\n",
    "\n",
    "Using two lists, combine them to print all combinations of deserts, then return a new list of all the combinations."
   ]
  },
  {
   "cell_type": "code",
   "execution_count": null,
   "id": "posted-atlanta",
   "metadata": {},
   "outputs": [],
   "source": [
    "deserts = [\"pie\", \"cake\", \"cobbler\"]\n",
    "fruits = [\"apple\", \"orange\", \"pear\", \"kiwi\", \"grape\", \"apricot\"]"
   ]
  },
  {
   "cell_type": "markdown",
   "id": "particular-jungle",
   "metadata": {},
   "source": [
    "### Exercise 2.1"
   ]
  },
  {
   "cell_type": "code",
   "execution_count": null,
   "id": "overhead-worse",
   "metadata": {},
   "outputs": [],
   "source": [
    "# loop through one of the lists first -- this is called the outer loop\n",
    "\n",
    "# set a variable for the outside loop individual item\n",
    "\n",
    "# inside the first loop, loop through the other list -- this is called the inner loop\n",
    "\n",
    "# set a variable for this inside loop individual item\n",
    "\n",
    "# take the item from the first list and concatanate it to the item of the second list...\n",
    "# this is a combination of fruit and desert.\n",
    "\n",
    "# print that fruit and desert combo\n",
    "\n",
    "# add this new combo item to the list you want to return\n",
    "\n",
    "# comment out of the inside loop\n",
    "\n",
    "# rhetorical: what happens if you return here?\n",
    "\n",
    "# comment out of the outside loop\n"
   ]
  },
  {
   "cell_type": "markdown",
   "id": "peripheral-outline",
   "metadata": {},
   "source": [
    "### Exercise 2.2\n",
    "\n",
    "Take the above and \"reuse\" it with a function.\n",
    "\n",
    "Questions to think on:\n",
    "- How many parameters/arguments are we passing into the function?\n",
    "- Are the parameters optional?\n",
    "- Do you have good triple-quoted string to comment your function?\n",
    "- Does your function return anything?\n",
    "\n",
    "I haven't specified a function \"signature\" (viz., the name of the function, and its arguments)."
   ]
  },
  {
   "cell_type": "code",
   "execution_count": null,
   "id": "wanted-elder",
   "metadata": {},
   "outputs": [],
   "source": []
  },
  {
   "cell_type": "markdown",
   "id": "graphic-opera",
   "metadata": {},
   "source": [
    "Invoke the function. I know that given the deserts and fruits list above, I should expect 18 items in the returned list. What's a good way to check that that's true?"
   ]
  },
  {
   "cell_type": "code",
   "execution_count": null,
   "id": "double-spectacular",
   "metadata": {},
   "outputs": [],
   "source": []
  }
 ],
 "metadata": {
  "kernelspec": {
   "display_name": "Python 3",
   "language": "python",
   "name": "python3"
  },
  "language_info": {
   "codemirror_mode": {
    "name": "ipython",
    "version": 3
   },
   "file_extension": ".py",
   "mimetype": "text/x-python",
   "name": "python",
   "nbconvert_exporter": "python",
   "pygments_lexer": "ipython3",
   "version": "3.8.5"
  }
 },
 "nbformat": 4,
 "nbformat_minor": 5
}
