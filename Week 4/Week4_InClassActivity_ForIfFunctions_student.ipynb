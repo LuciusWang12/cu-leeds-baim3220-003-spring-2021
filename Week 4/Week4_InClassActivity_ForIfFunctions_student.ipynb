{
 "cells": [
  {
   "cell_type": "markdown",
   "id": "undefined-metropolitan",
   "metadata": {},
   "source": [
    "# In-class Exercise - Fors, Ifs, and Functions"
   ]
  },
  {
   "cell_type": "code",
   "execution_count": null,
   "id": "bridal-committee",
   "metadata": {},
   "outputs": [],
   "source": [
    "# Use cell-magics if (and only if please!) you've created a separate environment (e.g., venv-baim3220) in Anaconda.\n",
    "\n",
    "# Opinionated formatter\n",
    "# https://pypi.org/project/nb-black/\n",
    "#%load_ext nb_black"
   ]
  },
  {
   "cell_type": "markdown",
   "id": "governmental-shell",
   "metadata": {},
   "source": [
    "## Exercise 1"
   ]
  },
  {
   "cell_type": "code",
   "execution_count": null,
   "id": "coral-bouquet",
   "metadata": {},
   "outputs": [],
   "source": [
    "# an example list\n",
    "fruits = [\"apples\", \"oranges\", \"pears\", \"kiwi\", \"grapes\", \"apricots\"]"
   ]
  },
  {
   "cell_type": "markdown",
   "id": "killing-howard",
   "metadata": {},
   "source": [
    "### Exercise 1.1\n",
    "\n",
    "Iterate (a fancy way of saying loop) over the list below. If the fruit name as \"ap\" in it, print the name in all capital letters. "
   ]
  },
  {
   "cell_type": "code",
   "execution_count": null,
   "id": "racial-semiconductor",
   "metadata": {},
   "outputs": [],
   "source": [
    "# Create a loop; use for or while? Hint, the list has a finite and known number of elements\n",
    "\n",
    "# Inside the loop, print the name of the current item\n",
    "\n",
    "# Check if the item has \"ap\" in it?\n",
    "\n",
    "# If so, print it the item in uppercase.\n",
    "\n",
    "# If not? Optional, this because I didn't ask, but if I had? Options.\n",
    "\n",
    "# End the loop, which may be as simple as commenting it so"
   ]
  },
  {
   "cell_type": "markdown",
   "id": "resident-cement",
   "metadata": {},
   "source": [
    "### Exercise 1.2\n",
    "\n",
    "Define a function that takes a list of strings as a one parameter, and a string as another. \n",
    "\n",
    "If the 2nd parameter is in any of the words in the list, add those to a new list. At the end of the function return the new list.\n",
    "\n",
    "Our \"blueprint\": `new_list_of_things = new_function_name(list_of_things,search_string)`\n",
    "\n",
    "Look familiar? The insides of this are from 1.1 above. Because we are returning something from the function, we need not format or print output inside the function. Unless it helps you with debugging of course."
   ]
  },
  {
   "cell_type": "code",
   "execution_count": null,
   "id": "obvious-verse",
   "metadata": {},
   "outputs": [],
   "source": [
    "# Define the function here:\n",
    "\n",
    "def new_function_name(list_of_things, search_string):\n",
    "    \"\"\"\n",
    "    Arguments:\n",
    "    - list of strings: a list of string to search\n",
    "    - search_string: the thing we're searching for\n",
    "    \n",
    "    Returns a list of found items that have the search string within\n",
    "    \"\"\"\n",
    "    \n",
    "    # what's next?\n",
    "    \n",
    "    \n",
    "# end def new_function_name"
   ]
  },
  {
   "cell_type": "markdown",
   "id": "charming-accreditation",
   "metadata": {},
   "source": [
    "Invoke/call/execute/run the function with the example list."
   ]
  },
  {
   "cell_type": "code",
   "execution_count": null,
   "id": "adopted-accreditation",
   "metadata": {},
   "outputs": [],
   "source": [
    "list_of_things = fruits  # might as well reuse this list\n",
    "search_string = \"ap\"\n",
    "new_list_of_things = new_function_name(list_of_things, search_string)\n",
    "print(new_list_of_things)"
   ]
  },
  {
   "cell_type": "markdown",
   "id": "ranging-promotion",
   "metadata": {},
   "source": [
    "## Exercise 2\n",
    "\n",
    "Using two lists, combine them to print all combinations of deserts"
   ]
  },
  {
   "cell_type": "code",
   "execution_count": null,
   "id": "sharp-cincinnati",
   "metadata": {},
   "outputs": [],
   "source": [
    "deserts = [\"pie\", \"cake\", \"cobbler\"]\n",
    "fruits = [\"apple\", \"orange\", \"pear\", \"kiwi\", \"grape\", \"apricot\"]"
   ]
  },
  {
   "cell_type": "markdown",
   "id": "adolescent-alexander",
   "metadata": {},
   "source": [
    "### Exercise 2.1"
   ]
  },
  {
   "cell_type": "code",
   "execution_count": null,
   "id": "collective-authentication",
   "metadata": {},
   "outputs": [],
   "source": [
    "# loop through one of the lists first\n",
    "\n",
    "# inside the first loop, loop through the other list\n",
    "\n",
    "# take the item from the first list and concatanate it to the item of the second list...\n",
    "# this is a combination of fruit and desert.\n",
    "\n",
    "# print that fruit and desert combo\n",
    "\n",
    "# comment out of the inside loop\n",
    "\n",
    "# comment out of the outside loop"
   ]
  }
 ],
 "metadata": {
  "kernelspec": {
   "display_name": "Python 3",
   "language": "python",
   "name": "python3"
  },
  "language_info": {
   "codemirror_mode": {
    "name": "ipython",
    "version": 3
   },
   "file_extension": ".py",
   "mimetype": "text/x-python",
   "name": "python",
   "nbconvert_exporter": "python",
   "pygments_lexer": "ipython3",
   "version": "3.8.5"
  }
 },
 "nbformat": 4,
 "nbformat_minor": 5
}
