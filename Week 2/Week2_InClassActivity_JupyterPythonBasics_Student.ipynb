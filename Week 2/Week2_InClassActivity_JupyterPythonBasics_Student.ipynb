{
 "cells": [
  {
   "cell_type": "markdown",
   "metadata": {},
   "source": [
    "# Week 1 & 2 Homework and/or In-Class Activity\n",
    ">- Week 1: Complete Sections 1 & 2\n",
    ">- Week 2: Complete Sections 3 & 4\n",
    "## Learning Objectives \n",
    "### In this notebook you will learn about\n",
    "1. Working with jupyter notebooks\n",
    "2. Section 1: Python fundamentals - Commenting and Printing \n",
    "<a id='Section 1'></a>[Section 1](#Section-1:-Comments-and-Basic-Data-Types)\n",
    "3. Section 2: Working with Variables in Python\n",
    "<a id='Section 2'></a>[Section 2](#Section-2:-Working-with-Variables-in-Python)\n",
    "4. Section 3: Working with Strings\n",
    "<a id='Section 3'></a>[Section 3](#Section-3:-Working-with-Strings)\n",
    "5. Section 4: String Manipulation Strings\n",
    "<a id='Section 4'></a>[Section 4](#Section-4:-String-Manipulation)\n",
    "\n",
    "<a id='Top Page'></a>[Back to Top](#Week-1-&-2-Homework-and/or-In-Class-Activity)"
   ]
  },
  {
   "cell_type": "markdown",
   "metadata": {},
   "source": [
    "# Section 1: Comments and Basic Data Types "
   ]
  },
  {
   "cell_type": "markdown",
   "metadata": {},
   "source": [
    "### In the next cell, do the following:\n",
    "1. Create markdown cell\n",
    "2. Create a level 1 header with the text \"Week 1\" as the header text\n",
    "3. Create a level 2 header with the text \"Learning Jupyter Notebooks and Basic Python\"\n",
    "4. Create a level 3 header with your name as the text\n",
    "5. Run the cell"
   ]
  },
  {
   "cell_type": "code",
   "execution_count": null,
   "metadata": {},
   "outputs": [],
   "source": []
  },
  {
   "cell_type": "markdown",
   "metadata": {},
   "source": [
    "### In the next cell, do the following:\n",
    "1. Create a comment in a code cell with the text \"this is python\" as the comment\n",
    "2. Write the python code to print the statement \"Hello, buddy!\" "
   ]
  },
  {
   "cell_type": "code",
   "execution_count": null,
   "metadata": {},
   "outputs": [],
   "source": []
  },
  {
   "cell_type": "markdown",
   "metadata": {},
   "source": [
    "### In the next cell, do the following:\n",
    "1. Make sure you can see line numbers in the left margin of the cell\n",
    ">- There are several ways you can do this but I'll leave it to you to find one\n",
    "2. Write a comment on line 1 that has the text \"Learning some Python fundamentals\"\n",
    "3. On line 2, write the code to print the string \"Hello\" \n",
    "4. On line 4, start a multi-line comment then include the following text on lines 5-7\n",
    ">- Line 5 text: this is the first line of a multi-line paragraph\n",
    ">- Line 6 text: this is the second line of a multi-line paragraph\n",
    ">- Line 7 text: this is the third line of a multi-line paragraph\n",
    "5. On line 8, close the multi-line quote\n",
    "6. Run the cell"
   ]
  },
  {
   "cell_type": "code",
   "execution_count": null,
   "metadata": {},
   "outputs": [],
   "source": []
  },
  {
   "cell_type": "markdown",
   "metadata": {},
   "source": [
    "### In the next cell, do the following:\n",
    "1. Print the following to the screen\n",
    ">- A blank character\n",
    ">- The text: There's a snake in my boot!"
   ]
  },
  {
   "cell_type": "code",
   "execution_count": null,
   "metadata": {},
   "outputs": [],
   "source": []
  },
  {
   "cell_type": "markdown",
   "metadata": {},
   "source": [
    "### Section 1 More Practice\n",
    "\n",
    "1. Create a cell below this and write the Python code that will print out your name\n",
    "2. Look up the `type()` function\n",
    ">- Create a cell and write some Python code that uses the `type()` function\n",
    ">- In your cell include comments explaining what the function is doing\n",
    "\n",
    "<a id='Top Page'></a>[Back to Top](#Week-1-&-2-Homework-and/or-In-Class-Activity)"
   ]
  },
  {
   "cell_type": "markdown",
   "metadata": {},
   "source": [
    "# Section 2: Working with Variables in Python"
   ]
  },
  {
   "cell_type": "markdown",
   "metadata": {},
   "source": [
    "### In the next cell, do the following:\n",
    "1. Create a variable, `firstName`, and assign it the value \"John\""
   ]
  },
  {
   "cell_type": "code",
   "execution_count": null,
   "metadata": {},
   "outputs": [],
   "source": []
  },
  {
   "cell_type": "markdown",
   "metadata": {},
   "source": [
    "### In the next cell, do the following:\n",
    "1. On line 1, create a variable, `Sport`, and assign it the value \"baseball\"\n",
    "2. On line 2, call the `print()` function and pass the variable `Sport` to it\n",
    "3. On line 3, call the `print()` function and pass the variable `sport` to it"
   ]
  },
  {
   "cell_type": "code",
   "execution_count": null,
   "metadata": {},
   "outputs": [],
   "source": []
  },
  {
   "cell_type": "markdown",
   "metadata": {},
   "source": [
    "##### Type the error code you received from the previous code cell in this markdown cell, use a bullet point"
   ]
  },
  {
   "cell_type": "markdown",
   "metadata": {},
   "source": [
    "### In the next cell:\n",
    "1. On line 1, define a variable, `num1`, and assign it the integer value 5\n",
    "2. On line 2, define a variable, `num2`, and assign it the float value of 8.4\n",
    "3. On line 3, print `num1` and `num2` in the same print function"
   ]
  },
  {
   "cell_type": "code",
   "execution_count": null,
   "metadata": {},
   "outputs": [],
   "source": []
  },
  {
   "cell_type": "markdown",
   "metadata": {},
   "source": [
    "### In the next cell:\n",
    "1. On line 1 type a comment with the text: \"Storing strings into variables\"\n",
    "2. On line 2, create a variable, `name` and assign it the value \"John Smith\"\n",
    "3. On line 3, cretae a variable, `favNum` and assign it the value '9'\n",
    "4. Print `name` and `favNum` using the same call to the print function"
   ]
  },
  {
   "cell_type": "code",
   "execution_count": null,
   "metadata": {},
   "outputs": [],
   "source": []
  },
  {
   "cell_type": "markdown",
   "metadata": {},
   "source": [
    "### In the next cell:\n",
    "1. On line 1, create a variable, `result`, that is assigned the sum of `num1` and `num2` using variable names\n",
    "2. Print `result`"
   ]
  },
  {
   "cell_type": "code",
   "execution_count": null,
   "metadata": {},
   "outputs": [],
   "source": []
  },
  {
   "cell_type": "markdown",
   "metadata": {},
   "source": [
    "### In the next cell:\n",
    "1. Type, result += 1\n",
    "2. Print `result`\n",
    "3. Type, result \\*= num1\n",
    "4. Print `result`"
   ]
  },
  {
   "cell_type": "code",
   "execution_count": null,
   "metadata": {},
   "outputs": [],
   "source": []
  },
  {
   "cell_type": "markdown",
   "metadata": {},
   "source": [
    "##### Now, go back to the prior code cell and write a comment on each line explaining what the code was doing\n",
    ">- What is the current value of result?"
   ]
  },
  {
   "cell_type": "code",
   "execution_count": null,
   "metadata": {},
   "outputs": [],
   "source": []
  },
  {
   "cell_type": "markdown",
   "metadata": {},
   "source": [
    "### In the next cell:\n",
    "1. Define a variable, `name`, and assign it the string value \"John\"\n",
    "2. Print `name`\n",
    "3. Assign the variable, `name` the string value \"Sam\"\n",
    "4. Print `name`"
   ]
  },
  {
   "cell_type": "code",
   "execution_count": null,
   "metadata": {},
   "outputs": [],
   "source": []
  },
  {
   "cell_type": "markdown",
   "metadata": {},
   "source": [
    "##### What is the current value of the `name` variable?\n",
    ">- In the next cell write a multi-line comment explaining your answer. "
   ]
  },
  {
   "cell_type": "code",
   "execution_count": null,
   "metadata": {},
   "outputs": [],
   "source": []
  },
  {
   "cell_type": "markdown",
   "metadata": {},
   "source": [
    "### Section 2 Extra Practice with Variables\n",
    "1. Store the value 3 in a variable called \"x\" and the value 10 in a variable called \"y\".\n",
    "2. Save the result of x\\*y into a new variable called \"result\"\n",
    "3. Output/print the information to the screen so it looks like: `3 * 10 = 30`\n",
    ">- Use variable names in your print function, not a string such as \"3 * 10 = 30\"\n",
    "\n",
    "<a id='Top Page'></a>[Back to Top](#Week-1-&-2-Homework-and/or-In-Class-Activity)"
   ]
  },
  {
   "cell_type": "code",
   "execution_count": null,
   "metadata": {},
   "outputs": [],
   "source": []
  },
  {
   "cell_type": "markdown",
   "metadata": {},
   "source": [
    "# Section 3: Working with Strings"
   ]
  },
  {
   "cell_type": "markdown",
   "metadata": {},
   "source": [
    "### In the next cell:\n",
    ">- Create a variable, `name`, that is the result of concatenating the following strings together:\n",
    ">>- \"John\", \" \", \"Smith\"\n",
    ">>>- Note: the second string is a blank character to give a space between the two names\n",
    ">- Print out `name` to the screen"
   ]
  },
  {
   "cell_type": "code",
   "execution_count": null,
   "metadata": {},
   "outputs": [],
   "source": []
  },
  {
   "cell_type": "markdown",
   "metadata": {},
   "source": [
    "### In the next cell:\n",
    "1. Create a variable, `firstName` and assign it the value \"John\"\n",
    "2. Create a variable, `lastName` and assign it the value \"Smith\"\n",
    "3. Create a variable, `fullName` and assign it the result of concatenating the following together:\n",
    ">- firstName, \" \", lastName\n",
    "4. Print out `fullName` to the screen"
   ]
  },
  {
   "cell_type": "code",
   "execution_count": null,
   "metadata": {},
   "outputs": [],
   "source": []
  },
  {
   "cell_type": "markdown",
   "metadata": {},
   "source": [
    "### In the next cell:\n",
    "1. Create a variable, `name`, and assign it the name \"John\"\n",
    "2. Use f-string formatting to print out \"Hello {name}\" to the screen \n",
    ">- If you don't know what f-string formatting is, try looking it up\n",
    ">- Your result should print out \"Hello John\" not \"Hello {name}\""
   ]
  },
  {
   "cell_type": "code",
   "execution_count": null,
   "metadata": {},
   "outputs": [],
   "source": []
  },
  {
   "cell_type": "markdown",
   "metadata": {},
   "source": [
    "### In the next cell:\n",
    "1. Create a variable, `word`, and assign it the value \"Hello\"\n",
    "2. Print out `word`\n",
    "3. Print out the first letter in `word`\n",
    "4. Print out the second letter in `word`\n",
    "5. Print out the last letter in `word`\n",
    ">- Note: to accomplish steps 3-5 you need to use index values to get the particular characters in a string\n",
    ">- Indexing in most languages, including Python, begins at 0 and not 1\n",
    ">- We access particular indices using brackets, for example `name[2]` would get us the 3rd character in a variable `name`  "
   ]
  },
  {
   "cell_type": "code",
   "execution_count": null,
   "metadata": {},
   "outputs": [],
   "source": []
  },
  {
   "cell_type": "markdown",
   "metadata": {},
   "source": [
    "### In the next cell:\n",
    "1. Print out the first 2 letters of `word` that you defined in the prior example\n",
    ">- To do this, you will use what is known as \"string slicing\".\n",
    ">- We use slicing to grab a certain range of values\n",
    ">>- The general syntax to slice is: `variable_name[start index: stop index  : step`], where:\n",
    ">>>- `start index` is where you want to start your slice, this value will be inclusive\n",
    ">>>- `stop index` is where you want to stop exclusive of the index position you enter here\n",
    ">>>- `step` is optional and indicates the increments in index values you want returned "
   ]
  },
  {
   "cell_type": "code",
   "execution_count": null,
   "metadata": {},
   "outputs": [],
   "source": []
  },
  {
   "cell_type": "markdown",
   "metadata": {},
   "source": [
    "### In the next cell:\n",
    "1. Print out every other character in the variable `word` that you defined previously"
   ]
  },
  {
   "cell_type": "code",
   "execution_count": null,
   "metadata": {},
   "outputs": [],
   "source": []
  },
  {
   "cell_type": "markdown",
   "metadata": {},
   "source": [
    "### Section 3 Extra Practice with Strings\n",
    "1. Create a print statement that injects an integer, float, boolean, ans string all on one line\n",
    ">- Do this by creating variables for each of the data types and then use print methods you have learned to \"inject\" the variables into the print statement\n",
    ">- An example of what should be printed would look like: \"23 4.5 True John\"\n",
    "2. Using f-string formatting fill in the following blanks by assigning your name and favorite activities into variables\n",
    ">- `{ }'s favorite sport is { }.`\n",
    ">- `{ } is learning { } programming!`\n",
    "\n",
    "<a id='Top Page'></a>[Back to Top](#Week-1-&-2-Homework-and/or-In-Class-Activity)"
   ]
  },
  {
   "cell_type": "code",
   "execution_count": null,
   "metadata": {},
   "outputs": [],
   "source": []
  },
  {
   "cell_type": "markdown",
   "metadata": {},
   "source": [
    "# Section 4: String Manipulation\n",
    ">- There are many applications where you will want to manipulate strings\n",
    ">- In this section we go over some common string manipulation methods"
   ]
  },
  {
   "cell_type": "markdown",
   "metadata": {},
   "source": [
    "### In the next cell:\n",
    "1. Create a variable, `name`, and assign it the value \"john smith\"\n",
    "2. Print `name`\n",
    "3. Use the `title()` method and print out `name`, note the result\n",
    ">- Note: when we use methods, the general syntax is: `variable.method()`\n",
    "4. Use the `lower()` method on `name` and print the result\n",
    "5. Use the `upper()` method on `name` and print the result"
   ]
  },
  {
   "cell_type": "code",
   "execution_count": null,
   "metadata": {},
   "outputs": [],
   "source": []
  },
  {
   "cell_type": "markdown",
   "metadata": {},
   "source": [
    "### In the next cell:\n",
    "1. Create a variable, `words`, and assign it the value \"Hello there!\"\n",
    "2. Print `words`\n",
    "2. Create a new variable, `words2`, that uses the `replace()` method to replace the \"!\" in `words` with \".\"\n",
    ">- Note: the general syntax for `replace()` is: `replace(\"original value\", \"new value\")`\n",
    "4. Print `words2`"
   ]
  },
  {
   "cell_type": "code",
   "execution_count": null,
   "metadata": {},
   "outputs": [],
   "source": []
  },
  {
   "cell_type": "markdown",
   "metadata": {},
   "source": [
    "### In the next cell:\n",
    "1. Create a variable, `s`, and assign it the value \"Look over that way\"\n",
    "2. Use the `find()` method to return the index value where the word \"over\" starts\n",
    ">- Look up the find() method if you want to learn the general syntax"
   ]
  },
  {
   "cell_type": "code",
   "execution_count": null,
   "metadata": {},
   "outputs": [],
   "source": []
  },
  {
   "cell_type": "markdown",
   "metadata": {},
   "source": [
    "### In the next cell:\n",
    "1. Create a variable, `string`, and assign it the value: \"These words are separated by spaces\"\n",
    "2. Use the split method to return a list of all the words based on the space character\n",
    ">- We will cover lists in more depth later, for now, just try to use and understand the `split()` method\n",
    "3. Write a comment below or next to the line where you use the `split()` method explaining what it is doing"
   ]
  },
  {
   "cell_type": "code",
   "execution_count": null,
   "metadata": {},
   "outputs": [],
   "source": []
  },
  {
   "cell_type": "markdown",
   "metadata": {},
   "source": [
    "### Section 4 Extra Practice\n",
    "1. Create a code cell and manipulate the string \"uppercase\" so that it prints out only uppercase letters\n",
    ">- You may have to look up a string method for this\n",
    "2. Create another code cell and type the following in the next cell: `help(\"\".split)`\n",
    ">- You can use this on any of the methods used in this lesson to learn more\n",
    "3. In a third cell, type `help(str)` and see what you get\n",
    "\n",
    "<a id='Top Page'></a>[Back to Top](#Week-1-&-2-Homework-and/or-In-Class-Activity)"
   ]
  }
 ],
 "metadata": {
  "kernelspec": {
   "display_name": "Python 3",
   "language": "python",
   "name": "python3"
  },
  "language_info": {
   "codemirror_mode": {
    "name": "ipython",
    "version": 3
   },
   "file_extension": ".py",
   "mimetype": "text/x-python",
   "name": "python",
   "nbconvert_exporter": "python",
   "pygments_lexer": "ipython3",
   "version": "3.7.3"
  }
 },
 "nbformat": 4,
 "nbformat_minor": 2
}
